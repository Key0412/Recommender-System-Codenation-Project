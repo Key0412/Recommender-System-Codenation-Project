{
 "cells": [
  {
   "cell_type": "code",
   "execution_count": 1,
   "metadata": {},
   "outputs": [],
   "source": [
    "from zipfile import ZipFile\n",
    "\n",
    "import pandas as pd\n",
    "import numpy as np\n",
    "\n",
    "from LinearRegressionRecSys import LinearRegressionRecSys\n",
    "\n",
    "np.random.seed(42)"
   ]
  },
  {
   "cell_type": "markdown",
   "metadata": {},
   "source": [
    "Read datasets:"
   ]
  },
  {
   "cell_type": "code",
   "execution_count": 2,
   "metadata": {},
   "outputs": [
    {
     "name": "stdout",
     "output_type": "stream",
     "text": [
      "Wall time: 7.84 s\n"
     ]
    }
   ],
   "source": [
    "%%time\n",
    "with ZipFile(\"../data/estaticos_market.csv.zip\").open(\"estaticos_market.csv\") as dataset:\n",
    "    market_df = pd.read_csv(dataset, index_col=0)"
   ]
  },
  {
   "cell_type": "code",
   "execution_count": 3,
   "metadata": {},
   "outputs": [
    {
     "name": "stdout",
     "output_type": "stream",
     "text": [
      "Wall time: 52.6 s\n"
     ]
    }
   ],
   "source": [
    "%%time\n",
    "dataset_files = []\n",
    "for file_idx in range(8):\n",
    "    dataset_files.append(pd.read_csv(\"../output/\" +  f\"companies_profile_{file_idx}.bz2\", compression=\"bz2\"))     \n",
    "companies_profile = pd.concat(dataset_files, axis=0, ignore_index=True).set_index(\"id\")"
   ]
  },
  {
   "cell_type": "code",
   "execution_count": 4,
   "metadata": {},
   "outputs": [],
   "source": [
    "# Cluster labels\n",
    "cluster_labels = pd.read_csv(\"../output/\" + \"cluster_labels.zip\", compression=\"zip\", index_col=0)   \n",
    "\n",
    "# Portfolios\n",
    "portfolio1 = pd.read_csv(\"../data/\" + \"estaticos_portfolio1.csv\", usecols=[\"id\"])\n",
    "portfolio2 = pd.read_csv(\"../data/\" + \"estaticos_portfolio2.csv\", usecols=[\"id\"])\n",
    "portfolio3 = pd.read_csv(\"../data/\" + \"estaticos_portfolio3.csv\", usecols=[\"id\"])\n",
    "\n",
    "# Get list of all clients\n",
    "all_clients = pd.concat([portfolio1, portfolio2, portfolio3], axis=0, ignore_index=True)"
   ]
  },
  {
   "cell_type": "markdown",
   "metadata": {},
   "source": [
    "Size of datasets:"
   ]
  },
  {
   "cell_type": "code",
   "execution_count": 5,
   "metadata": {},
   "outputs": [
    {
     "name": "stdout",
     "output_type": "stream",
     "text": [
      "<class 'pandas.core.frame.DataFrame'>\n",
      "Int64Index: 462298 entries, 0 to 462297\n",
      "Data columns (total 1 columns):\n",
      " #   Column   Non-Null Count   Dtype\n",
      "---  ------   --------------   -----\n",
      " 0   cluster  462298 non-null  int64\n",
      "dtypes: int64(1)\n",
      "memory usage: 7.1 MB\n"
     ]
    }
   ],
   "source": [
    "cluster_labels.info()"
   ]
  },
  {
   "cell_type": "code",
   "execution_count": 6,
   "metadata": {},
   "outputs": [
    {
     "name": "stdout",
     "output_type": "stream",
     "text": [
      "<class 'pandas.core.frame.DataFrame'>\n",
      "Int64Index: 462298 entries, 0 to 462297\n",
      "Columns: 181 entries, id to qt_filiais\n",
      "dtypes: bool(9), float64(144), int64(1), object(27)\n",
      "memory usage: 614.1+ MB\n"
     ]
    }
   ],
   "source": [
    "market_df.info()"
   ]
  },
  {
   "cell_type": "code",
   "execution_count": 7,
   "metadata": {},
   "outputs": [
    {
     "name": "stdout",
     "output_type": "stream",
     "text": [
      "<class 'pandas.core.frame.DataFrame'>\n",
      "Index: 462298 entries, a6984c3ae395090e3bee8ad63c3758b110de096d5d819583a784a113726db849 to 3d43e934e150b86be1e67524f5ba1018b27da9ef25566d9c0607623ae7f25e3a\n",
      "Columns: 190 entries, PC_1 to PC_190\n",
      "dtypes: float64(190)\n",
      "memory usage: 673.7+ MB\n"
     ]
    }
   ],
   "source": [
    "companies_profile.info()"
   ]
  },
  {
   "cell_type": "code",
   "execution_count": 8,
   "metadata": {},
   "outputs": [
    {
     "name": "stdout",
     "output_type": "stream",
     "text": [
      "\n",
      "Testing Portfolio . . .\n",
      "\n",
      "Database size: 462298\n",
      "Portfolio size: 1386\n",
      "Portfolios' ids are in the database\n",
      "\n"
     ]
    }
   ],
   "source": [
    "recsys = LinearRegressionRecSys(all_clients, companies_profile, cluster_labels)\n",
    "rating_df = recsys.rating_df # get rating_df for all clients\n",
    "clients_mask = rating_df[\"client\"] # get mask for clients\n",
    "not_clients_mask = ~clients_mask # get mask for companies that are not clients"
   ]
  },
  {
   "cell_type": "code",
   "execution_count": 9,
   "metadata": {},
   "outputs": [],
   "source": [
    "clients_index = list(np.where(clients_mask)[0]) # get indexes for clients \n",
    "# get a sample of not clients the size of 30 times the number of clients\n",
    "not_clients_rnd_index = list(np.random.choice(np.where(not_clients_mask)[0], size=25*len(clients_index), replace=False))\n",
    "# sum indexes from clients and sample of not clients\n",
    "sample_idx = clients_index + not_clients_rnd_index\n",
    "sample_idx.sort()\n",
    "\n",
    "cluster_labels_sample = cluster_labels.iloc[sample_idx].reset_index(drop=True)\n",
    "market_df_sample = market_df.iloc[sample_idx].reset_index(drop=True)\n",
    "companies_profile_sample = companies_profile.iloc[sample_idx]"
   ]
  },
  {
   "cell_type": "markdown",
   "metadata": {},
   "source": [
    "Sample Sizes:"
   ]
  },
  {
   "cell_type": "code",
   "execution_count": 10,
   "metadata": {},
   "outputs": [
    {
     "name": "stdout",
     "output_type": "stream",
     "text": [
      "<class 'pandas.core.frame.DataFrame'>\n",
      "RangeIndex: 33228 entries, 0 to 33227\n",
      "Data columns (total 1 columns):\n",
      " #   Column   Non-Null Count  Dtype\n",
      "---  ------   --------------  -----\n",
      " 0   cluster  33228 non-null  int64\n",
      "dtypes: int64(1)\n",
      "memory usage: 259.7 KB\n"
     ]
    }
   ],
   "source": [
    "cluster_labels_sample.info()"
   ]
  },
  {
   "cell_type": "code",
   "execution_count": 11,
   "metadata": {},
   "outputs": [
    {
     "name": "stdout",
     "output_type": "stream",
     "text": [
      "<class 'pandas.core.frame.DataFrame'>\n",
      "RangeIndex: 33228 entries, 0 to 33227\n",
      "Columns: 181 entries, id to qt_filiais\n",
      "dtypes: bool(9), float64(144), int64(1), object(27)\n",
      "memory usage: 43.9+ MB\n"
     ]
    }
   ],
   "source": [
    "market_df_sample.info()"
   ]
  },
  {
   "cell_type": "code",
   "execution_count": 12,
   "metadata": {},
   "outputs": [
    {
     "name": "stdout",
     "output_type": "stream",
     "text": [
      "<class 'pandas.core.frame.DataFrame'>\n",
      "Index: 33228 entries, 8bf37c178778e537b108e58bf20552abe10c3a7fae129b04b52506188e7176da to 84db0f17467cf4f02439e01ade57150b6ac59d9dae53edb2f43d68b0e55fb766\n",
      "Columns: 190 entries, PC_1 to PC_190\n",
      "dtypes: float64(190)\n",
      "memory usage: 48.4+ MB\n"
     ]
    }
   ],
   "source": [
    "companies_profile_sample.info()"
   ]
  },
  {
   "cell_type": "markdown",
   "metadata": {},
   "source": [
    "Save samples:"
   ]
  },
  {
   "cell_type": "code",
   "execution_count": 13,
   "metadata": {},
   "outputs": [],
   "source": [
    "cluster_labels_sample.to_csv(path_or_buf=\"../output/cluster_labels_sample.csv\")"
   ]
  },
  {
   "cell_type": "code",
   "execution_count": 14,
   "metadata": {},
   "outputs": [],
   "source": [
    "market_df_sample.to_csv(path_or_buf=\"../output/estaticos_market_sample.zip\", compression=\"zip\")"
   ]
  },
  {
   "cell_type": "code",
   "execution_count": 15,
   "metadata": {},
   "outputs": [],
   "source": [
    "companies_profile_sample.to_csv(path_or_buf=\"../output/companies_profile_sample.zip\", compression=\"zip\")"
   ]
  }
 ],
 "metadata": {
  "kernelspec": {
   "display_name": "Python 3",
   "language": "python",
   "name": "python3"
  },
  "language_info": {
   "codemirror_mode": {
    "name": "ipython",
    "version": 3
   },
   "file_extension": ".py",
   "mimetype": "text/x-python",
   "name": "python",
   "nbconvert_exporter": "python",
   "pygments_lexer": "ipython3",
   "version": "3.8.5"
  }
 },
 "nbformat": 4,
 "nbformat_minor": 4
}

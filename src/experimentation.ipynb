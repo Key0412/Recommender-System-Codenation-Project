{
 "cells": [
  {
   "cell_type": "code",
   "execution_count": 1,
   "metadata": {},
   "outputs": [],
   "source": [
    "from ReadFiles import ReadFiles\n",
    "from LinearRegressionRecSys import LinearRegressionRecSys\n",
    "from VisualizeLeads import VisualizeLeads\n",
    "\n",
    "import pandas as pd\n",
    "import numpy as np\n",
    "from zipfile import ZipFile\n",
    "from imblearn.over_sampling import SMOTE\n",
    "from sklearn.model_selection import train_test_split\n",
    "from sklearn.linear_model import LogisticRegression\n",
    "from sklearn.metrics import accuracy_score, f1_score, precision_score, recall_score, roc_auc_score\n",
    "import matplotlib.pyplot as plt\n",
    "import seaborn as sns"
   ]
  },
  {
   "cell_type": "markdown",
   "metadata": {},
   "source": [
    "Importing data"
   ]
  },
  {
   "cell_type": "code",
   "execution_count": 2,
   "metadata": {},
   "outputs": [
    {
     "name": "stdout",
     "output_type": "stream",
     "text": [
      "Features retrieved from original dataframe: ['de_natureza_juridica', 'sg_uf', 'de_ramo', 'setor', 'idade_emp_cat', 'de_faixa_faturamento_estimado']\n",
      "Wall time: 35.7 s\n"
     ]
    }
   ],
   "source": [
    "%%time\n",
    "database, cluster_labels, portfolio1, portfolio2, portfolio3, original_market_df = ReadFiles().get_data()"
   ]
  },
  {
   "cell_type": "code",
   "execution_count": 3,
   "metadata": {},
   "outputs": [
    {
     "name": "stdout",
     "output_type": "stream",
     "text": [
      "\n",
      "Testing Portfolio . . .\n",
      "\n",
      "Database size: 462298\n",
      "Portfolio size: 566\n",
      "Portfolios' ids are in the database\n",
      "\n"
     ]
    }
   ],
   "source": [
    "recsys = LinearRegressionRecSys(portfolio2, database, cluster_labels)"
   ]
  },
  {
   "cell_type": "code",
   "execution_count": 4,
   "metadata": {},
   "outputs": [
    {
     "name": "stdout",
     "output_type": "stream",
     "text": [
      "\n",
      "train_recommend -> training . . .\n",
      "\n",
      "- Veryfing Cluster 0 -\n",
      "\n",
      "Cluster size: 97296\n",
      "Clients in cluster: 0\n",
      "Clients per cluster ratio: 0.0 % \n",
      "\n",
      "Processing:\n",
      "\n",
      "Cluster has no clients, saving {'client_flag': 1} in the output dictionary.\n",
      "-------------------------------------------------------------------------------------------------------------------------------------------------------------------------\n",
      "\n",
      "- Veryfing Cluster 1 -\n",
      "\n",
      "Cluster size: 201620\n",
      "Clients in cluster: 478\n",
      "Clients per cluster ratio: 0.237 % \n",
      "\n",
      "Processing:\n",
      "\n",
      "Applying train test split . . .\n",
      "Applying SMOTE oversampling . . .\n",
      "Training Logistic Regression . . .\n",
      "Making predictions and saving metrics . . .\n",
      "-------------------------------------------------------------------------------------------------------------------------------------------------------------------------\n",
      "\n",
      "- Veryfing Cluster 2 -\n",
      "\n",
      "Cluster size: 163382\n",
      "Clients in cluster: 88\n",
      "Clients per cluster ratio: 0.054 % \n",
      "\n",
      "Processing:\n",
      "\n",
      "Applying train test split . . .\n",
      "Applying SMOTE oversampling . . .\n",
      "Training Logistic Regression . . .\n",
      "Making predictions and saving metrics . . .\n",
      "-------------------------------------------------------------------------------------------------------------------------------------------------------------------------\n",
      "\n",
      "\n",
      "train_recommend -> recommending . . .\n",
      "\n",
      "- Cluster 0 has no clients -\n",
      "\n",
      "-------------------------------------------------------------------------------------------------------------------------------------------------------------------------\n",
      "\n",
      "- Adding 8 recomendations from cluster 1 -\n",
      "\n",
      "-------------------------------------------------------------------------------------------------------------------------------------------------------------------------\n",
      "\n",
      "- Adding 2 recomendations from cluster 2 -\n",
      "\n",
      "-------------------------------------------------------------------------------------------------------------------------------------------------------------------------\n",
      "\n"
     ]
    }
   ],
   "source": [
    "recommendations = recsys.train_recommend()"
   ]
  },
  {
   "cell_type": "code",
   "execution_count": 8,
   "metadata": {},
   "outputs": [
    {
     "name": "stdout",
     "output_type": "stream",
     "text": [
      "Features retrieved from original dataframe: ['de_natureza_juridica', 'sg_uf', 'de_ramo', 'setor', 'idade_emp_cat', 'de_faixa_faturamento_estimado']\n"
     ]
    }
   ],
   "source": [
    "visualizer = VisualizeLeads(recommended_ids=recommendations[\"id\"], original_market_df=original_market_df)"
   ]
  },
  {
   "cell_type": "code",
   "execution_count": 9,
   "metadata": {},
   "outputs": [
    {
     "data": {
      "text/html": [
       "<div>\n",
       "<style scoped>\n",
       "    .dataframe tbody tr th:only-of-type {\n",
       "        vertical-align: middle;\n",
       "    }\n",
       "\n",
       "    .dataframe tbody tr th {\n",
       "        vertical-align: top;\n",
       "    }\n",
       "\n",
       "    .dataframe thead th {\n",
       "        text-align: right;\n",
       "    }\n",
       "</style>\n",
       "<table border=\"1\" class=\"dataframe\">\n",
       "  <thead>\n",
       "    <tr style=\"text-align: right;\">\n",
       "      <th></th>\n",
       "      <th>id</th>\n",
       "      <th>de_natureza_juridica</th>\n",
       "      <th>sg_uf</th>\n",
       "      <th>de_ramo</th>\n",
       "      <th>setor</th>\n",
       "      <th>idade_emp_cat</th>\n",
       "      <th>de_faixa_faturamento_estimado</th>\n",
       "    </tr>\n",
       "    <tr>\n",
       "      <th>Ranking</th>\n",
       "      <th></th>\n",
       "      <th></th>\n",
       "      <th></th>\n",
       "      <th></th>\n",
       "      <th></th>\n",
       "      <th></th>\n",
       "      <th></th>\n",
       "    </tr>\n",
       "  </thead>\n",
       "  <tbody>\n",
       "    <tr>\n",
       "      <th>1</th>\n",
       "      <td>2ecd9bd8e5e856c8e522bf2d7e4403527aa15cb28823d9...</td>\n",
       "      <td>SOCIEDADE ANONIMA FECHADA</td>\n",
       "      <td>RO</td>\n",
       "      <td>COMERCIO VAREJISTA</td>\n",
       "      <td>COMERCIO</td>\n",
       "      <td>&gt; 20</td>\n",
       "      <td>DE R$ 10.000.000,01 A R$ 30.000.000,00</td>\n",
       "    </tr>\n",
       "    <tr>\n",
       "      <th>2</th>\n",
       "      <td>5dc97cd7d44221a81f42bbd2fddec395eb8ef30b440a93...</td>\n",
       "      <td>SOCIEDADE EMPRESARIA LIMITADA</td>\n",
       "      <td>MA</td>\n",
       "      <td>COMERCIO E REPARACAO DE VEICULOS</td>\n",
       "      <td>COMERCIO</td>\n",
       "      <td>&gt; 20</td>\n",
       "      <td>DE R$ 30.000.000,01 A R$ 100.000.000,00</td>\n",
       "    </tr>\n",
       "    <tr>\n",
       "      <th>3</th>\n",
       "      <td>d62fed1a30012b02509cc4f3193ec847f935107fe333fe...</td>\n",
       "      <td>SOCIEDADE DE ECONOMIA MISTA</td>\n",
       "      <td>RN</td>\n",
       "      <td>TRANSPORTE, ARMAZENAGEM E CORREIO</td>\n",
       "      <td>SERVIÇO</td>\n",
       "      <td>&gt; 20</td>\n",
       "      <td>DE R$ 30.000.000,01 A R$ 100.000.000,00</td>\n",
       "    </tr>\n",
       "    <tr>\n",
       "      <th>4</th>\n",
       "      <td>1726c8acf891c79a5b1c7e49b08509ed507789d2bd81eb...</td>\n",
       "      <td>AUTARQUIA ESTADUAL OU DO DISTRITO FEDERAL</td>\n",
       "      <td>MA</td>\n",
       "      <td>ADMINISTRACAO PUBLICA, DEFESA E SEGURIDADE SOCIAL</td>\n",
       "      <td>SERVIÇO</td>\n",
       "      <td>&gt; 20</td>\n",
       "      <td>DE R$ 10.000.000,01 A R$ 30.000.000,00</td>\n",
       "    </tr>\n",
       "    <tr>\n",
       "      <th>5</th>\n",
       "      <td>0a7b28fc55ad61995cd006ca213a33f648c91189dbf4b4...</td>\n",
       "      <td>MUNICIPIO</td>\n",
       "      <td>AM</td>\n",
       "      <td>ADMINISTRACAO PUBLICA, DEFESA E SEGURIDADE SOCIAL</td>\n",
       "      <td>SERVIÇO</td>\n",
       "      <td>&gt; 20</td>\n",
       "      <td>DE R$ 10.000.000,01 A R$ 30.000.000,00</td>\n",
       "    </tr>\n",
       "    <tr>\n",
       "      <th>6</th>\n",
       "      <td>4fa4676623d1ee3f10024daece0680ebc41ec1fd131847...</td>\n",
       "      <td>MUNICIPIO</td>\n",
       "      <td>RN</td>\n",
       "      <td>ADMINISTRACAO PUBLICA, DEFESA E SEGURIDADE SOCIAL</td>\n",
       "      <td>SERVIÇO</td>\n",
       "      <td>&gt; 20</td>\n",
       "      <td>DE R$ 10.000.000,01 A R$ 30.000.000,00</td>\n",
       "    </tr>\n",
       "    <tr>\n",
       "      <th>7</th>\n",
       "      <td>e9dfd1badf5bb309bf100ec6ab64fbadf50aa5b819f70e...</td>\n",
       "      <td>ORGAO PUBLICO DO PODER EXECUTIVO ESTADUAL OU D...</td>\n",
       "      <td>PI</td>\n",
       "      <td>ADMINISTRACAO PUBLICA, DEFESA E SEGURIDADE SOCIAL</td>\n",
       "      <td>SERVIÇO</td>\n",
       "      <td>10 a 15</td>\n",
       "      <td>DE R$ 10.000.000,01 A R$ 30.000.000,00</td>\n",
       "    </tr>\n",
       "    <tr>\n",
       "      <th>8</th>\n",
       "      <td>874edc3770468e023f58150b7013d43b616653487d5e1f...</td>\n",
       "      <td>ORGAO PUBLICO DO PODER EXECUTIVO ESTADUAL OU D...</td>\n",
       "      <td>AC</td>\n",
       "      <td>ADMINISTRACAO PUBLICA, DEFESA E SEGURIDADE SOCIAL</td>\n",
       "      <td>SERVIÇO</td>\n",
       "      <td>10 a 15</td>\n",
       "      <td>DE R$ 10.000.000,01 A R$ 30.000.000,00</td>\n",
       "    </tr>\n",
       "    <tr>\n",
       "      <th>9</th>\n",
       "      <td>97ebe3da3897738d4d0d0d52951464c328ee830a4801b2...</td>\n",
       "      <td>ORGAO PUBLICO DO PODER EXECUTIVO ESTADUAL OU D...</td>\n",
       "      <td>AC</td>\n",
       "      <td>ADMINISTRACAO PUBLICA, DEFESA E SEGURIDADE SOCIAL</td>\n",
       "      <td>SERVIÇO</td>\n",
       "      <td>10 a 15</td>\n",
       "      <td>DE R$ 10.000.000,01 A R$ 30.000.000,00</td>\n",
       "    </tr>\n",
       "    <tr>\n",
       "      <th>10</th>\n",
       "      <td>7f6920b54535f9d2ca8e6d1b56084b76146225e459efcb...</td>\n",
       "      <td>AUTARQUIA ESTADUAL OU DO DISTRITO FEDERAL</td>\n",
       "      <td>MA</td>\n",
       "      <td>ADMINISTRACAO PUBLICA, DEFESA E SEGURIDADE SOCIAL</td>\n",
       "      <td>SERVIÇO</td>\n",
       "      <td>10 a 15</td>\n",
       "      <td>DE R$ 10.000.000,01 A R$ 30.000.000,00</td>\n",
       "    </tr>\n",
       "  </tbody>\n",
       "</table>\n",
       "</div>"
      ],
      "text/plain": [
       "                                                        id  \\\n",
       "Ranking                                                      \n",
       "1        2ecd9bd8e5e856c8e522bf2d7e4403527aa15cb28823d9...   \n",
       "2        5dc97cd7d44221a81f42bbd2fddec395eb8ef30b440a93...   \n",
       "3        d62fed1a30012b02509cc4f3193ec847f935107fe333fe...   \n",
       "4        1726c8acf891c79a5b1c7e49b08509ed507789d2bd81eb...   \n",
       "5        0a7b28fc55ad61995cd006ca213a33f648c91189dbf4b4...   \n",
       "6        4fa4676623d1ee3f10024daece0680ebc41ec1fd131847...   \n",
       "7        e9dfd1badf5bb309bf100ec6ab64fbadf50aa5b819f70e...   \n",
       "8        874edc3770468e023f58150b7013d43b616653487d5e1f...   \n",
       "9        97ebe3da3897738d4d0d0d52951464c328ee830a4801b2...   \n",
       "10       7f6920b54535f9d2ca8e6d1b56084b76146225e459efcb...   \n",
       "\n",
       "                                      de_natureza_juridica sg_uf  \\\n",
       "Ranking                                                            \n",
       "1                                SOCIEDADE ANONIMA FECHADA    RO   \n",
       "2                            SOCIEDADE EMPRESARIA LIMITADA    MA   \n",
       "3                              SOCIEDADE DE ECONOMIA MISTA    RN   \n",
       "4                AUTARQUIA ESTADUAL OU DO DISTRITO FEDERAL    MA   \n",
       "5                                                MUNICIPIO    AM   \n",
       "6                                                MUNICIPIO    RN   \n",
       "7        ORGAO PUBLICO DO PODER EXECUTIVO ESTADUAL OU D...    PI   \n",
       "8        ORGAO PUBLICO DO PODER EXECUTIVO ESTADUAL OU D...    AC   \n",
       "9        ORGAO PUBLICO DO PODER EXECUTIVO ESTADUAL OU D...    AC   \n",
       "10               AUTARQUIA ESTADUAL OU DO DISTRITO FEDERAL    MA   \n",
       "\n",
       "                                                   de_ramo     setor  \\\n",
       "Ranking                                                                \n",
       "1                                       COMERCIO VAREJISTA  COMERCIO   \n",
       "2                         COMERCIO E REPARACAO DE VEICULOS  COMERCIO   \n",
       "3                        TRANSPORTE, ARMAZENAGEM E CORREIO   SERVIÇO   \n",
       "4        ADMINISTRACAO PUBLICA, DEFESA E SEGURIDADE SOCIAL   SERVIÇO   \n",
       "5        ADMINISTRACAO PUBLICA, DEFESA E SEGURIDADE SOCIAL   SERVIÇO   \n",
       "6        ADMINISTRACAO PUBLICA, DEFESA E SEGURIDADE SOCIAL   SERVIÇO   \n",
       "7        ADMINISTRACAO PUBLICA, DEFESA E SEGURIDADE SOCIAL   SERVIÇO   \n",
       "8        ADMINISTRACAO PUBLICA, DEFESA E SEGURIDADE SOCIAL   SERVIÇO   \n",
       "9        ADMINISTRACAO PUBLICA, DEFESA E SEGURIDADE SOCIAL   SERVIÇO   \n",
       "10       ADMINISTRACAO PUBLICA, DEFESA E SEGURIDADE SOCIAL   SERVIÇO   \n",
       "\n",
       "        idade_emp_cat            de_faixa_faturamento_estimado  \n",
       "Ranking                                                         \n",
       "1                > 20   DE R$ 10.000.000,01 A R$ 30.000.000,00  \n",
       "2                > 20  DE R$ 30.000.000,01 A R$ 100.000.000,00  \n",
       "3                > 20  DE R$ 30.000.000,01 A R$ 100.000.000,00  \n",
       "4                > 20   DE R$ 10.000.000,01 A R$ 30.000.000,00  \n",
       "5                > 20   DE R$ 10.000.000,01 A R$ 30.000.000,00  \n",
       "6                > 20   DE R$ 10.000.000,01 A R$ 30.000.000,00  \n",
       "7             10 a 15   DE R$ 10.000.000,01 A R$ 30.000.000,00  \n",
       "8             10 a 15   DE R$ 10.000.000,01 A R$ 30.000.000,00  \n",
       "9             10 a 15   DE R$ 10.000.000,01 A R$ 30.000.000,00  \n",
       "10            10 a 15   DE R$ 10.000.000,01 A R$ 30.000.000,00  "
      ]
     },
     "execution_count": 9,
     "metadata": {},
     "output_type": "execute_result"
    }
   ],
   "source": [
    "visualizer.create_table()"
   ]
  },
  {
   "cell_type": "code",
   "execution_count": 11,
   "metadata": {},
   "outputs": [
    {
     "data": {
      "image/png": "[encoded data removed]",
      "text/plain": [
       "<Figure size 1440x1728 with 6 Axes>"
      ]
     },
     "metadata": {
      "needs_background": "light"
     },
     "output_type": "display_data"
    }
   ],
   "source": [
    "visualizer.create_barplots(n_labels=10)"
   ]
  }
 ],
 "metadata": {
  "kernelspec": {
   "display_name": "Python 3",
   "language": "python",
   "name": "python3"
  },
  "language_info": {
   "codemirror_mode": {
    "name": "ipython",
    "version": 3
   },
   "file_extension": ".py",
   "mimetype": "text/x-python",
   "name": "python",
   "nbconvert_exporter": "python",
   "pygments_lexer": "ipython3",
   "version": "3.8.5"
  }
 },
 "nbformat": 4,
 "nbformat_minor": 4
}
